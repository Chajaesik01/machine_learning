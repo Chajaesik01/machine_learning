{
 "cells": [
  {
   "cell_type": "markdown",
   "id": "9de3b34c",
   "metadata": {},
   "source": [
    "미로에 대한 환경 정의"
   ]
  },
  {
   "cell_type": "code",
   "execution_count": 26,
   "id": "dd700153",
   "metadata": {},
   "outputs": [],
   "source": [
    "class Enviroment:\n",
    "    # 1. 미로 밖(절벽), 길, 목적지와 보상 설정\n",
    "    # road의 값이 -인 이유는 goal과의 값 격차를 크게해서 \n",
    "    # 최단거리를 경험, 학습 할 수 있게 하기 위함이다\n",
    "    ciff = -3\n",
    "    road = -1\n",
    "    goal = 1\n",
    "    \n",
    "    # 2. 목적지 좌표 설정\n",
    "    goal_position= [2,2]\n",
    "    \n",
    "    # 3. 보상 리스트 숫자\n",
    "    \n",
    "    reward_list = [[road, road, road],\n",
    "                  [road, road, road],\n",
    "                  [road, road, goal]]\n",
    "    \n",
    "    # 4. 보상 리스트 문자\n",
    "    reward_list1 = [[\"road\", \"road\", \"road\"],\n",
    "                   [\"road\",\"road\",\"road\"],\n",
    "                   [\"road\", \"road\", \"goal\"]]\n",
    "    \n",
    "    # 5. 보상 리스트를 array로 설정\n",
    "    \n",
    "    def __init__(self):\n",
    "        self.reward = np.asarray(self.reward_list)\n",
    "        \n",
    "\n",
    "    # 6. 선택된 에이전트의 행동 결과 반환(미로 밖일 경우 이전 좌표로 다시 복귀)\n",
    "    \n",
    "    def move(self, agent, action):\n",
    "        done = False\n",
    "        \n",
    "        # 6.1 행동에 따른 좌표 구하기\n",
    "        # 현재 좌표 : agent.pos\n",
    "        # 이동 후 좌표 : new_pos\n",
    "        new_pos = agent.pos + agent.action[action]\n",
    "        \n",
    "        # 6.2 현재 좌표가 목적지인지 확인\n",
    "        \n",
    "        if self.reward_list1[agent.pos[0]][agent.pos[1]] == \"goal\":\n",
    "            reward = self.goal\n",
    "            observation = agent.set_pos(agent.pos)\n",
    "            done = True\n",
    "            \n",
    "        # 6.3 이동 후 좌표가 미로 밖인지 확인\n",
    "        # reward.shape[0] 과 [1]의 값은 배열의 크기인 3이다.\n",
    "        \n",
    "        \n",
    "        elif new_pos[0] < 0 or new_pos[0] >= self.reward.shape[0] \\\n",
    "            or new_pos[1]  < 0 or new_pos[1] >= self.reward.shape[1]:\n",
    "            reward = self.ciff\n",
    "            observation = agent.set_pos(agent.pos)\n",
    "            done = True\n",
    "            \n",
    "        else:\n",
    "            observation = agent.set_pos(new_pos)\n",
    "            reward = self.reward[observation[0],observation[1]]\n",
    "            \n",
    "        return observation, reward, done\n",
    "             \n",
    "        \n",
    "                             \n",
    "    \n",
    "    "
   ]
  },
  {
   "cell_type": "markdown",
   "id": "e1e3c338",
   "metadata": {},
   "source": [
    "Agent 구현"
   ]
  },
  {
   "cell_type": "code",
   "execution_count": 27,
   "id": "aa9781ef",
   "metadata": {},
   "outputs": [],
   "source": [
    "import numpy as np\n",
    "\n",
    "class Agent:\n",
    "    # 1. 행동에 따른 에이전트의 좌표 이동(위, 오른쪽, 아래, 왼쪽)\n",
    "    action = np.array([[-1,0], [0,1], [1,0], [0,-1]])\n",
    "    \n",
    "    # 2. 각 행동별 선택 확률\n",
    "    \n",
    "    select_action_pr = np.array([0.25, 0.25, 0.25, 0.25])\n",
    "    \n",
    "    # 3. 에이전트의 초기 위치 저장\n",
    "    def __init__(self, initial_position):\n",
    "        self.pos = initial_position\n",
    "        \n",
    "    # 4. 에이전트의 위치 저장\n",
    "    def set_pos(self,position):\n",
    "        self.pos = position\n",
    "        return self.pos\n",
    "        \n",
    "    # 5. 에이전트의 위치 불러오기\n",
    "    \n",
    "    def get_pos(self):\n",
    "        return self.pos"
   ]
  },
  {
   "cell_type": "markdown",
   "id": "11bf64c0",
   "metadata": {},
   "source": [
    "상태, 행동 가치 함수 정의"
   ]
  },
  {
   "cell_type": "code",
   "execution_count": 28,
   "id": "3f6d0c1d",
   "metadata": {},
   "outputs": [],
   "source": [
    "\n",
    "# 상태 가치 계산\n",
    "\n",
    "def state_value_function(env, agent, G, max_step, now_step):\n",
    "    \n",
    "    # 1. 감가율 설정\n",
    "    # 값이 1에 가까울 수록 미래를 더 중점으로 생각\n",
    "    # 환경이 복잡할 수록 값을 작게 변화해가며 실행\n",
    "    gamma = 0.9\n",
    "    \n",
    "    # 2. 현재 위치가 도착지점인지 확인\n",
    "    if env.reward_list1[agent.pos[0]][agent.pos[1]] == \"goal\":\n",
    "        return env.goal\n",
    "    \n",
    "    # 3. 마지막 상태는 보상만 계산\n",
    "    \n",
    "    if (max_step == now_step):\n",
    "        pos1 = agent.get_pos()\n",
    "    \n",
    "        # 3.1 가능한 모든 행동의 보상을 계산\n",
    "\n",
    "        for i in range(len(agent.action)):\n",
    "            agent.set_pos(pos1)\n",
    "            observation, reward, done = env.move(agent,i)\n",
    "            G += agent.select_action_pr[i]* reward\n",
    "        return G\n",
    "    \n",
    "    else:\n",
    "        \n",
    "        # 4.1 현재 위치 저장\n",
    "        pos1 = agent.get_pos()\n",
    "        \n",
    "        # 4.2 현재 위치에서 가능한 모든 행동을 조사한 후 이동\n",
    "        for i in range(len(agent.action)):\n",
    "            observation, reward, done = env.move(agent, i)\n",
    "            \n",
    "        # 4.2.1 현재 상태에서 보상을 계산\n",
    "        G += agent.select_action_pr[i] * reward\n",
    "        \n",
    "        # 4.2.2 이동 후 위치 확인 : 미로 밖, 벽, 구멍인 경우 이동 전 좌표로 다시 이동\n",
    "        if done == True:\n",
    "            if observation[0] < 0 or observation[0] >= env.reward.shape[0] or observation[1] < 0 or observation[1] >= env.reward.shape[1]:\n",
    "                # 다시 복귀\n",
    "                agent.set_pos(pos1)\n",
    "        # 4.2.3 다음 step을 계산\n",
    "        next_v = state_value_function(env, agent, 0, max_step, now_step+1)\n",
    "        G += agent.select_action_pr[i] * gamma * next_v\n",
    "        \n",
    "        # 4.2.4 현재 위치를 복구\n",
    "        agent.set_pos(pos1)\n",
    "        \n",
    "    return G\n",
    "        "
   ]
  },
  {
   "cell_type": "markdown",
   "id": "f037a9e1",
   "metadata": {},
   "source": [
    "직접 실행해보기"
   ]
  },
  {
   "cell_type": "code",
   "execution_count": 29,
   "id": "573b1752",
   "metadata": {},
   "outputs": [
    {
     "name": "stderr",
     "output_type": "stream",
     "text": [
      "No artists with labels found to put in legend.  Note that artists whose label start with an underscore are ignored when legend() is called with no argument.\n"
     ]
    },
    {
     "name": "stdout",
     "output_type": "stream",
     "text": [
      "max_step_number = 0 total_time =0.0(s)\n",
      "max_step_number = 1 total_time =0.0(s)\n",
      "max_step_number = 2 total_time =0.0(s)\n",
      "max_step_number = 3 total_time =0.0(s)\n",
      "max_step_number = 4 total_time =0.0(s)\n",
      "max_step_number = 5 total_time =0.0(s)\n",
      "max_step_number = 6 total_time =0.0(s)\n",
      "max_step_number = 7 total_time =0.0(s)\n",
      "max_step_number = 8 total_time =0.0(s)\n",
      "max_step_number = 9 total_time =0.01(s)\n",
      "max_step_number = 10 total_time =0.0(s)\n",
      "max_step_number = 11 total_time =0.01(s)\n",
      "max_step_number = 12 total_time =0.0(s)\n"
     ]
    },
    {
     "data": {
      "image/png": "[encoded data removed]",
      "text/plain": [
       "<Figure size 640x480 with 1 Axes>"
      ]
     },
     "metadata": {},
     "output_type": "display_data"
    }
   ],
   "source": [
    "import time\n",
    "import matplotlib.pyplot as plt\n",
    "# 1. 환경 초기화\n",
    "env = Enviroment()\n",
    "\n",
    "# 2. 에이전트 초기화\n",
    "agent = Agent(0.9)\n",
    "\n",
    "# 3. 최대max_step_number 제한\n",
    "max_step_number = 13\n",
    "\n",
    "# 4. 계산 시간 저장을 위한 list\n",
    "time_len =[]\n",
    "\n",
    "# 5. 재귀함수 state_value_function을 이용해 각 상태 가치를 계산\n",
    "for max_step in range(max_step_number):\n",
    "    \n",
    "    # 5.1 미로의 각 상태의 가치를 테이블 형식으로 저장\n",
    "    v_table = np.zeros((env.reward.shape[0], env.reward.shape[1]))\n",
    "    start_time = time.time()\n",
    "    \n",
    "    # 5.2 미로의 각 상태에 대해 state_value_function을 이용해 가치를 계산한 후 테이블 형식으로 저장\n",
    "    for i in range(env.reward.shape[0]):\n",
    "        for j in range(env.reward.shape[1]):\n",
    "            agent.set_pos([i,j])\n",
    "            v_table[i,j] =state_value_function(env, agent, 0, max_step, 0)\n",
    "            \n",
    "    # 5.3 max_step에따른 계산 시간 저장\n",
    "    time_len.append(time.time()-start_time)\n",
    "    print(\"max_step_number = {} total_time ={}(s)\".format(max_step, np.round(time.time() -start_time,2)))\n",
    "    #show_v_table(np.round(v_table,2),env)\n",
    "    \n",
    "# 6. step별 계산 시간 그래프 그리기\n",
    "plt.plot(time_len, 'o-k')\n",
    "plt.xlabel('max_down')\n",
    "plt.ylabel('time(s)')\n",
    "plt.legend()\n",
    "plt.show()\n",
    "    "
   ]
  },
  {
   "cell_type": "code",
   "execution_count": null,
   "id": "eb9a2555",
   "metadata": {},
   "outputs": [],
   "source": []
  }
 ],
 "metadata": {
  "kernelspec": {
   "display_name": "Python 3 (ipykernel)",
   "language": "python",
   "name": "python3"
  },
  "language_info": {
   "codemirror_mode": {
    "name": "ipython",
    "version": 3
   },
   "file_extension": ".py",
   "mimetype": "text/x-python",
   "name": "python",
   "nbconvert_exporter": "python",
   "pygments_lexer": "ipython3",
   "version": "3.7.16"
  }
 },
 "nbformat": 4,
 "nbformat_minor": 5
}
